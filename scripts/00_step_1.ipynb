{
 "cells": [
  {
   "cell_type": "code",
   "execution_count": 5,
   "metadata": {},
   "outputs": [],
   "source": [
    "def input_expenses():\n",
    "    exp_date = input(\"Enter the date of the expense in the format YYYY-MM-DD\")\n",
    "    exp_category = input(\"Enter the category of the expense\")\n",
    "    exp_amount = input(\"Enter the amount of the expense\")\n",
    "    exp_description = input(\"Enter the description of the expense\")\n",
    "\n",
    "    exp_dict = { \\\n",
    "        \"date\": exp_date, \\\n",
    "        \"category\": exp_category, \\\n",
    "        \"amount\": exp_amount, \\\n",
    "        \"description\": exp_description \\\n",
    "    }\n",
    "    \n",
    "    return exp_dict\n"
   ]
  },
  {
   "cell_type": "code",
   "execution_count": 6,
   "metadata": {},
   "outputs": [
    {
     "data": {
      "text/plain": [
       "{'date': '2025-01-02',\n",
       " 'category': 'Food',\n",
       " 'amount': '20',\n",
       " 'description': 'Dinner with friends'}"
      ]
     },
     "execution_count": 6,
     "metadata": {},
     "output_type": "execute_result"
    }
   ],
   "source": [
    "input_expenses()"
   ]
  }
 ],
 "metadata": {
  "kernelspec": {
   "display_name": "Python 3",
   "language": "python",
   "name": "python3"
  },
  "language_info": {
   "codemirror_mode": {
    "name": "ipython",
    "version": 3
   },
   "file_extension": ".py",
   "mimetype": "text/x-python",
   "name": "python",
   "nbconvert_exporter": "python",
   "pygments_lexer": "ipython3",
   "version": "3.10.12"
  }
 },
 "nbformat": 4,
 "nbformat_minor": 2
}
